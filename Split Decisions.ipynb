{
 "cells": [
  {
   "cell_type": "markdown",
   "metadata": {},
   "source": [
    "# Split Decisions\n",
    "\n",
    "Solver / Game creator aid for the NYT 'Split Decisions' puzzle. FInds word pairs that can be created using shared word shapes with different letter pairs, as in the example pair below (SCREW / SINEW)\n",
    "\n",
    "- '_SC_ _'\n",
    "- '_IN_ _'\n"
   ]
  },
  {
   "cell_type": "code",
   "execution_count": 102,
   "metadata": {},
   "outputs": [],
   "source": [
    "import numpy as np\n",
    "import pandas as pd\n",
    "import timeit\n",
    "import matplotlib.pyplot as plt\n",
    "%matplotlib inline"
   ]
  },
  {
   "cell_type": "markdown",
   "metadata": {},
   "source": [
    "## Solver, given initial positions"
   ]
  },
  {
   "cell_type": "code",
   "execution_count": 60,
   "metadata": {
    "collapsed": true
   },
   "outputs": [],
   "source": [
    "#corncob = r\"D:\\Users\\hiltss\\Github\\SplitDecisions_Wordgame\\corncob_lowercase.txt\"\n",
    "#wiki = r\"D:\\Users\\hiltss\\Github\\SplitDecisions_Wordgame\\wiki-100k.txt\"\n",
    "#big = r\"D:\\Users\\hiltss\\Github\\SplitDecisions_Wordgame\\words.txt\"\n",
    "\n",
    "corncob = r\"C:\\Users\\stefa\\Documents\\GitHub\\SplitDecisions_Wordgame-master\\corncob_lowercase.txt\"\n",
    "#wiki = r\"C:\\Users\\stefa\\Documents\\GitHub\\SplitDecisions_Wordgame-master\\wiki-100k.txt\"\n",
    "big = r\"C:\\Users\\stefa\\Documents\\GitHub\\SplitDecisions_Wordgame-master\\words.txt\"\n",
    "\n",
    "word_list_corncob = [x.upper() for x in open(corncob).read().split(\"\\n\")]\n",
    "#word_list_wiki = open(wiki, encoding='utf-8').read().split(\"\\n\")\n",
    "word_list = open(big).read().split(\"\\n\")"
   ]
  },
  {
   "cell_type": "markdown",
   "metadata": {
    "collapsed": true
   },
   "source": [
    "## Create dictionaries of word pairs\n",
    "Counts of available words by:\n",
    "- Word length\n",
    "- Letter pair\n",
    "- Position\n",
    "\n",
    "Create cross-pair counts by position, length (can actually be length-agnostic for some purposes; length is optional). \n"
   ]
  },
  {
   "cell_type": "markdown",
   "metadata": {},
   "source": [
    "### Create list of letter pairs, calc frequency\n",
    "- Defines alphabet\n",
    "- Creates letter pairs from alphabet\n",
    "- Reduces pairs list based on frequency in dictionary. "
   ]
  },
  {
   "cell_type": "code",
   "execution_count": 84,
   "metadata": {
    "collapsed": true
   },
   "outputs": [],
   "source": [
    "alphabet = ['A','B','C','D','E','F','G','H','I','J','K','L','M','N','O','P','Q','R','S','T','U','V','W','X','Y','Z']"
   ]
  },
  {
   "cell_type": "code",
   "execution_count": 78,
   "metadata": {},
   "outputs": [
    {
     "name": "stdout",
     "output_type": "stream",
     "text": [
      "11.70361751943284\n"
     ]
    }
   ],
   "source": [
    "start = timeit.default_timer()\n",
    "df_freq = pd.DataFrame()\n",
    "\n",
    "for pair in pairs_list:\n",
    "    freq=0\n",
    "    for word in word_list_corncob:\n",
    "        if word.find(pair)>-1:\n",
    "            freq = freq+1\n",
    "    df_temp = pd.DataFrame(np.column_stack([pair,freq]))\n",
    "    df_freq = df_freq.append(df_temp)\n",
    "    \n",
    "    \n",
    "stop = timeit.default_timer()\n",
    "print(stop-start)"
   ]
  },
  {
   "cell_type": "code",
   "execution_count": 123,
   "metadata": {
    "scrolled": true
   },
   "outputs": [
    {
     "data": {
      "text/plain": [
       "125"
      ]
     },
     "execution_count": 123,
     "metadata": {},
     "output_type": "execute_result"
    }
   ],
   "source": [
    "df_freq.columns = ['Pair','Freq']\n",
    "df_freq['Freq'] = pd.to_numeric(df_freq['Freq']) \n",
    "pairs_list_scrub = df_freq[df_freq['Freq']>1000]['Pair'].values.tolist()\n",
    "len(pairs_list_scrub)\n"
   ]
  },
  {
   "cell_type": "markdown",
   "metadata": {},
   "source": [
    "###  Define Calc functions"
   ]
  },
  {
   "cell_type": "code",
   "execution_count": 35,
   "metadata": {},
   "outputs": [],
   "source": [
    "def make_word_match(shape, word_list):\n",
    "    blank_pos = []\n",
    "    list_shape=[]\n",
    "    for x in range(len(shape)):\n",
    "        blank_pos.append(shape.find('_',x))\n",
    "    blank_pos = list(set(blank_pos))\n",
    "    letter_pos = [x for x in range(len(shape)) if x not in blank_pos]\n",
    "    word_list_len = [x.upper() for x in word_list if len(x)==len(shape)]\n",
    "    for word in word_list_len:\n",
    "        check = 0 \n",
    "        for x in range(len(shape)):\n",
    "            if x in letter_pos:\n",
    "                if word[x]!=shape[x]:\n",
    "                    check = check+1\n",
    "        if check == 0:\n",
    "            #list_a.append(word)\n",
    "            list_shape.append(''.join([word[x] for x in range(len(word)) if x in blank_pos]))\n",
    "    return list_shape, blank_pos\n",
    "\n",
    "def make_shape(pos, length, pair):\n",
    "    shape = []\n",
    "    for x in range(length):\n",
    "        if x==pos:\n",
    "            shape.append(pair[0])\n",
    "        elif x==pos+1:\n",
    "            shape.append(pair[1])\n",
    "        else:\n",
    "            shape.append('_')\n",
    "    return ''.join(shape)\n",
    "\n",
    "def match_list(list_a,list_b,shape_a,shape_b,blank_pos):\n",
    "    match = list(set(list_b)&set(list_a))\n",
    "    comb_list = []\n",
    "    for word in match:\n",
    "        word_pair_a = []\n",
    "        word_pair_b = []\n",
    "        count = 0\n",
    "        for x in range(len(shape_a)):\n",
    "            if x in blank_pos:\n",
    "                word_pair_a.append(word[count])\n",
    "                word_pair_b.append(word[count])\n",
    "                count=count+1\n",
    "            else: \n",
    "                word_pair_a.append(shape_a[x])\n",
    "                word_pair_b.append(shape_b[x])\n",
    "        \n",
    "        comb_list.append([''.join(word_pair_a),''.join(word_pair_b)])\n",
    "    return comb_list\n",
    "        \n",
    "def run_whole(pair_a,pair_b,pos,length,word_list):\n",
    "    shape_a = make_shape(pos,length,pair_a)\n",
    "    shape_b = make_shape(pos,length,pair_b)\n",
    "\n",
    "    list_a,blank_pos = make_word_match(shape_a,word_list)\n",
    "    list_b,blank_pos = make_word_match(shape_b,word_list)\n",
    "\n",
    "    return match_list(list_a,list_b,shape_a,shape_b,blank_pos)\n",
    "\n"
   ]
  },
  {
   "cell_type": "markdown",
   "metadata": {},
   "source": [
    "### Run stuff\n",
    "- Loop through pairs in scrubbed pairs list to create dataframe of counts of words viable word pairs. \n",
    "- Function creates DF for word length and pair position"
   ]
  },
  {
   "cell_type": "code",
   "execution_count": 126,
   "metadata": {},
   "outputs": [
    {
     "name": "stdout",
     "output_type": "stream",
     "text": [
      "3.691044386069734\n"
     ]
    }
   ],
   "source": [
    "start = timeit.default_timer()\n",
    "df_pairs = pd.DataFrame()\n",
    "\n",
    "for pair_a in pairs_list_scrub[:10]:\n",
    "    for pair_b in pairs_list_scrub[:10]:\n",
    "        if pair_b == pair_a:\n",
    "            pass\n",
    "        else:\n",
    "            pairmatch = len(run_whole(pair_a,pair_b,pos=1,length=6,word_list=word_list_corncob))\n",
    "            df_temp = pd.DataFrame(np.column_stack([pair_a,pair_b,pairmatch]))\n",
    "            df_pairs = df_pairs.append(df_temp)\n",
    "            \n",
    "stop = timeit.default_timer()\n",
    "print(stop-start)"
   ]
  },
  {
   "cell_type": "code",
   "execution_count": 128,
   "metadata": {},
   "outputs": [
    {
     "data": {
      "text/plain": [
       "578.125"
      ]
     },
     "execution_count": 128,
     "metadata": {},
     "output_type": "execute_result"
    }
   ],
   "source": [
    "125*125/100*3.7"
   ]
  },
  {
   "cell_type": "code",
   "execution_count": null,
   "metadata": {
    "collapsed": true
   },
   "outputs": [],
   "source": []
  }
 ],
 "metadata": {
  "kernelspec": {
   "display_name": "Python 3",
   "language": "python",
   "name": "python3"
  }
 },
 "nbformat": 4,
 "nbformat_minor": 2
}
