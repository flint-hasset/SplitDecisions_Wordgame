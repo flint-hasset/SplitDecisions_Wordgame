{
 "cells": [
  {
   "cell_type": "markdown",
   "metadata": {},
   "source": [
    "### Split Decisions\n",
    "\n",
    "Solver / Game creator aid for the NYT 'Split Decisions' puzzle. FInds word pairs that can be created using shared word shapes with different letter pairs, as in the example pair below (SCREW / SINEW)\n",
    "\n",
    "_CR_ _\n",
    "_IN_ _\n"
   ]
  },
  {
   "cell_type": "code",
   "execution_count": 35,
   "metadata": {},
   "outputs": [
    {
     "data": {
      "text/plain": [
       "58111"
      ]
     },
     "execution_count": 35,
     "metadata": {},
     "output_type": "execute_result"
    }
   ],
   "source": [
    "#### Import word list.\n",
    "#### Options to select twl (scrabble list) or 20k most common words\n",
    "#word_list = open(r\"D:\\Users\\hiltss\\Github\\Spelling-Bee\\wiki-100k.txt\", encoding='utf-8').read().split(\"\\n\")\n",
    "#word_list = open(r\"D:\\Users\\hiltss\\Github\\Spelling-Bee\\20k.txt\").read().split(\"\\n\")\n",
    "#word_list = open(r\"C:\\Users\\stefa\\Documents\\GitHub\\Spelling-Bee\\Spelling-Bee-master\\corncob_lowercase.txt\").read().split(\"\\n\")\n",
    "#word_list = open(r\"C:\\Users\\stefa\\Documents\\GitHub\\Spelling-Bee\\Spelling-Bee-master\\wiki-100k.txt\",encoding='utf-8').read().split(\"\\n\")\n",
    "\n",
    "#len(word_list)"
   ]
  },
  {
   "cell_type": "code",
   "execution_count": 117,
   "metadata": {},
   "outputs": [],
   "source": [
    "corncob = r\"C:\\Users\\stefa\\Documents\\GitHub\\Spelling-Bee\\Spelling-Bee-master\\corncob_lowercase.txt\"\n",
    "wiki = r\"C:\\Users\\stefa\\Documents\\GitHub\\Spelling-Bee\\Spelling-Bee-master\\wiki-100k.txt\"\n",
    "\n",
    "word_list = open(corncob).read().split(\"\\n\")\n",
    "word_list_wiki = open(wiki, encoding='utf-8').read().split(\"\\n\")\n"
   ]
  },
  {
   "cell_type": "code",
   "execution_count": 133,
   "metadata": {},
   "outputs": [],
   "source": [
    "shape_a = '_LI____'\n",
    "shape_b = '_GO____'\n",
    "\n",
    "\n",
    "blank_pos = []\n",
    "for x in range(len(shape_a)):\n",
    "    blank_pos.append(shape_a.find('_',x))\n",
    "blank_pos = list(set(blank_pos))\n",
    "letter_pos = [x for x in range(len(shape_a)) if x not in blank_pos]\n",
    "word_list_len = [x.upper() for x in word_list if len(x)==len(shape_a)]  "
   ]
  },
  {
   "cell_type": "code",
   "execution_count": 134,
   "metadata": {},
   "outputs": [
    {
     "name": "stdout",
     "output_type": "stream",
     "text": [
      "ELITISM EGOTISM\n",
      "ELITIST EGOTIST\n"
     ]
    }
   ],
   "source": [
    "list_a = []\n",
    "list_b = []\n",
    "\n",
    "for word in word_list_len:\n",
    "    check = 0 \n",
    "    for x in range(len(shape_a)):\n",
    "        if x in letter_pos:\n",
    "            if word[x]!=shape_a[x]:\n",
    "                check = check+1\n",
    "    if check == 0:\n",
    "        #list_a.append(word)\n",
    "        list_a.append(''.join([word[x] for x in range(len(word)) if x in blank_pos]))\n",
    "    check = 0 \n",
    "    for x in range(len(shape_b)):\n",
    "        if x in letter_pos:\n",
    "            if word[x]!=shape_b[x]:\n",
    "                check = check+1\n",
    "    if check == 0:\n",
    "        #list_a.append(word)\n",
    "        list_b.append(''.join([word[x] for x in range(len(word)) if x in blank_pos]))\n",
    "\n",
    "match = list(set(list_b)&set(list_a))\n",
    "for word in match:\n",
    "    word_pair_a = []\n",
    "    word_pair_b = []\n",
    "    count = 0\n",
    "    for x in range(len(shape_a)):\n",
    "        if x in blank_pos:\n",
    "            word_pair_a.append(word[count])\n",
    "            word_pair_b.append(word[count])\n",
    "            count=count+1\n",
    "        else: \n",
    "            word_pair_a.append(shape_a[x])\n",
    "            word_pair_b.append(shape_b[x])\n",
    "            \n",
    "    print(''.join(word_pair_a),''.join(word_pair_b))            "
   ]
  },
  {
   "cell_type": "code",
   "execution_count": 112,
   "metadata": {},
   "outputs": [
    {
     "data": {
      "text/plain": [
       "[]"
      ]
     },
     "execution_count": 112,
     "metadata": {},
     "output_type": "execute_result"
    }
   ],
   "source": [
    "match"
   ]
  },
  {
   "cell_type": "code",
   "execution_count": null,
   "metadata": {
    "collapsed": true
   },
   "outputs": [],
   "source": []
  }
 ],
 "metadata": {
  "kernelspec": {
   "display_name": "Python 3",
   "language": "python",
   "name": "python3"
  },
  "language_info": {
   "codemirror_mode": {
    "name": "ipython",
    "version": 3
   },
   "file_extension": ".py",
   "mimetype": "text/x-python",
   "name": "python",
   "nbconvert_exporter": "python",
   "pygments_lexer": "ipython3",
   "version": "3.6.1"
  }
 },
 "nbformat": 4,
 "nbformat_minor": 2
}
